{
 "cells": [
  {
   "cell_type": "markdown",
   "id": "31312ee1",
   "metadata": {},
   "source": [
    "# Codon Distribution"
   ]
  },
  {
   "cell_type": "code",
   "execution_count": 2,
   "id": "5f926ddb",
   "metadata": {},
   "outputs": [],
   "source": [
    "import pandas as pd"
   ]
  },
  {
   "cell_type": "code",
   "execution_count": 3,
   "id": "b2e32643",
   "metadata": {},
   "outputs": [],
   "source": [
    "df1 = pd.read_excel('Results/FrequencyCodon1.xlsx',index_col=0)\n",
    "df2 = pd.read_excel('Results/FrequencyCodon2.xlsx',index_col=0)\n",
    "df3 = pd.read_excel('Results/FrequencyCodon3.xlsx',index_col=0)\n",
    "df4 = pd.read_excel('Results/FrequencyCodon4.xlsx',index_col=0)\n",
    "df5 = pd.read_excel('Results/FrequencyCodon5.xlsx',index_col=0)\n",
    "df6 = pd.read_excel('Results/FrequencyCodon6.xlsx',index_col=0)\n",
    "df7 = pd.read_excel('Results/FrequencyCodon7.xlsx',index_col=0)\n",
    "df8 = pd.read_excel('Results/FrequencyCodon8.xlsx',index_col=0)\n",
    "df9 = pd.read_excel('Results/FrequencyCodon9.xlsx',index_col=0)\n",
    "df10 = pd.read_excel('Results/FrequencyCodon10.xlsx',index_col=0)"
   ]
  },
  {
   "cell_type": "code",
   "execution_count": 4,
   "id": "2cffbd70",
   "metadata": {},
   "outputs": [
    {
     "data": {
      "text/html": [
       "<div>\n",
       "<style scoped>\n",
       "    .dataframe tbody tr th:only-of-type {\n",
       "        vertical-align: middle;\n",
       "    }\n",
       "\n",
       "    .dataframe tbody tr th {\n",
       "        vertical-align: top;\n",
       "    }\n",
       "\n",
       "    .dataframe thead th {\n",
       "        text-align: right;\n",
       "    }\n",
       "</style>\n",
       "<table border=\"1\" class=\"dataframe\">\n",
       "  <thead>\n",
       "    <tr style=\"text-align: right;\">\n",
       "      <th></th>\n",
       "      <th>Codon</th>\n",
       "      <th>Frequency</th>\n",
       "    </tr>\n",
       "  </thead>\n",
       "  <tbody>\n",
       "    <tr>\n",
       "      <th>0</th>\n",
       "      <td>ATT</td>\n",
       "      <td>2</td>\n",
       "    </tr>\n",
       "    <tr>\n",
       "      <th>1</th>\n",
       "      <td>CTG</td>\n",
       "      <td>2</td>\n",
       "    </tr>\n",
       "    <tr>\n",
       "      <th>2</th>\n",
       "      <td>ATC</td>\n",
       "      <td>3</td>\n",
       "    </tr>\n",
       "    <tr>\n",
       "      <th>3</th>\n",
       "      <td>TTG</td>\n",
       "      <td>5654</td>\n",
       "    </tr>\n",
       "    <tr>\n",
       "      <th>4</th>\n",
       "      <td>---</td>\n",
       "      <td>21020</td>\n",
       "    </tr>\n",
       "    <tr>\n",
       "      <th>5</th>\n",
       "      <td>GTG</td>\n",
       "      <td>22156</td>\n",
       "    </tr>\n",
       "    <tr>\n",
       "      <th>6</th>\n",
       "      <td>ATG</td>\n",
       "      <td>256269</td>\n",
       "    </tr>\n",
       "  </tbody>\n",
       "</table>\n",
       "</div>"
      ],
      "text/plain": [
       "  Codon  Frequency\n",
       "0   ATT          2\n",
       "1   CTG          2\n",
       "2   ATC          3\n",
       "3   TTG       5654\n",
       "4   ---      21020\n",
       "5   GTG      22156\n",
       "6   ATG     256269"
      ]
     },
     "execution_count": 4,
     "metadata": {},
     "output_type": "execute_result"
    }
   ],
   "source": [
    "df1"
   ]
  },
  {
   "cell_type": "code",
   "execution_count": 5,
   "id": "7a933aee",
   "metadata": {},
   "outputs": [],
   "source": [
    "df = pd.concat([df1,df2,df3,df4,df5,df6,df7,df8,df9,df10])\n",
    "dff5 = pd.concat([df1,df2,df3,df4,df5])\n",
    "df6_10 = pd.concat([df6,df7,df8,df9,df10])"
   ]
  },
  {
   "cell_type": "code",
   "execution_count": 6,
   "id": "6ce6f1e4",
   "metadata": {},
   "outputs": [],
   "source": [
    "df = df.groupby('Codon').sum()\n",
    "dff5 = dff5.groupby('Codon').sum()\n",
    "df6_10 = df6_10.groupby('Codon').sum()"
   ]
  },
  {
   "cell_type": "code",
   "execution_count": 7,
   "id": "4361f8cb",
   "metadata": {},
   "outputs": [],
   "source": [
    "df = df.sort_values(by=['Frequency'],ascending = False)\n",
    "dff5 = dff5.sort_values(by=['Frequency'],ascending = False)\n",
    "df6_10 = df6_10.sort_values(by=['Frequency'],ascending = False)"
   ]
  },
  {
   "cell_type": "code",
   "execution_count": 8,
   "id": "ddf1dff3",
   "metadata": {},
   "outputs": [],
   "source": [
    "df.to_excel('Results/FrequencyCodonSum.xlsx')\n",
    "dff5.to_excel('Results/FrequencyCodonSum5.xlsx')\n",
    "df6_10.to_excel('Results/FrequencyCodonSum6_10.xlsx')"
   ]
  },
  {
   "cell_type": "code",
   "execution_count": 9,
   "id": "a01c8a60",
   "metadata": {},
   "outputs": [
    {
     "data": {
      "text/html": [
       "<div>\n",
       "<style scoped>\n",
       "    .dataframe tbody tr th:only-of-type {\n",
       "        vertical-align: middle;\n",
       "    }\n",
       "\n",
       "    .dataframe tbody tr th {\n",
       "        vertical-align: top;\n",
       "    }\n",
       "\n",
       "    .dataframe thead th {\n",
       "        text-align: right;\n",
       "    }\n",
       "</style>\n",
       "<table border=\"1\" class=\"dataframe\">\n",
       "  <thead>\n",
       "    <tr style=\"text-align: right;\">\n",
       "      <th></th>\n",
       "      <th>Frequency</th>\n",
       "    </tr>\n",
       "    <tr>\n",
       "      <th>Codon</th>\n",
       "      <th></th>\n",
       "    </tr>\n",
       "  </thead>\n",
       "  <tbody>\n",
       "    <tr>\n",
       "      <th>ATG</th>\n",
       "      <td>305466</td>\n",
       "    </tr>\n",
       "    <tr>\n",
       "      <th>---</th>\n",
       "      <td>155587</td>\n",
       "    </tr>\n",
       "    <tr>\n",
       "      <th>AAA</th>\n",
       "      <td>143544</td>\n",
       "    </tr>\n",
       "    <tr>\n",
       "      <th>ATT</th>\n",
       "      <td>109283</td>\n",
       "    </tr>\n",
       "    <tr>\n",
       "      <th>GAA</th>\n",
       "      <td>101663</td>\n",
       "    </tr>\n",
       "    <tr>\n",
       "      <th>...</th>\n",
       "      <td>...</td>\n",
       "    </tr>\n",
       "    <tr>\n",
       "      <th>CTA</th>\n",
       "      <td>10028</td>\n",
       "    </tr>\n",
       "    <tr>\n",
       "      <th>CGG</th>\n",
       "      <td>9360</td>\n",
       "    </tr>\n",
       "    <tr>\n",
       "      <th>GGG</th>\n",
       "      <td>8713</td>\n",
       "    </tr>\n",
       "    <tr>\n",
       "      <th>AGG</th>\n",
       "      <td>6990</td>\n",
       "    </tr>\n",
       "    <tr>\n",
       "      <th>SCC</th>\n",
       "      <td>1</td>\n",
       "    </tr>\n",
       "  </tbody>\n",
       "</table>\n",
       "<p>63 rows × 1 columns</p>\n",
       "</div>"
      ],
      "text/plain": [
       "       Frequency\n",
       "Codon           \n",
       "ATG       305466\n",
       "---       155587\n",
       "AAA       143544\n",
       "ATT       109283\n",
       "GAA       101663\n",
       "...          ...\n",
       "CTA        10028\n",
       "CGG         9360\n",
       "GGG         8713\n",
       "AGG         6990\n",
       "SCC            1\n",
       "\n",
       "[63 rows x 1 columns]"
      ]
     },
     "execution_count": 9,
     "metadata": {},
     "output_type": "execute_result"
    }
   ],
   "source": [
    "df"
   ]
  },
  {
   "cell_type": "code",
   "execution_count": null,
   "id": "9e4cb980",
   "metadata": {},
   "outputs": [],
   "source": []
  }
 ],
 "metadata": {
  "kernelspec": {
   "display_name": "Python 3 (ipykernel)",
   "language": "python",
   "name": "python3"
  },
  "language_info": {
   "codemirror_mode": {
    "name": "ipython",
    "version": 3
   },
   "file_extension": ".py",
   "mimetype": "text/x-python",
   "name": "python",
   "nbconvert_exporter": "python",
   "pygments_lexer": "ipython3",
   "version": "3.10.9"
  }
 },
 "nbformat": 4,
 "nbformat_minor": 5
}
